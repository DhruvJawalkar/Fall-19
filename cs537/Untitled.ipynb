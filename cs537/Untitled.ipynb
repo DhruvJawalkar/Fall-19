{
 "cells": [
  {
   "cell_type": "code",
   "execution_count": 1,
   "metadata": {},
   "outputs": [],
   "source": [
    "import numpy as np\n",
    "from numpy import genfromtxt"
   ]
  },
  {
   "cell_type": "code",
   "execution_count": 2,
   "metadata": {},
   "outputs": [],
   "source": [
    "train_data = genfromtxt('./data/train1.csv', delimiter=',')"
   ]
  },
  {
   "cell_type": "code",
   "execution_count": 3,
   "metadata": {},
   "outputs": [],
   "source": [
    "train_X, train_Y = train_data[:,:2], train_data[:,2:]"
   ]
  },
  {
   "cell_type": "code",
   "execution_count": 4,
   "metadata": {},
   "outputs": [],
   "source": [
    "mean, std = train_X.mean(axis=0, keepdims=True), train_X.std(axis=0, keepdims=True)\n",
    "normalized_X = (train_X - mean)/std\n",
    "normalized_X = np.expand_dims(normalized_X, axis=2)\n",
    "train_Y = np.expand_dims(train_Y, axis=2)\n",
    "\n",
    "orig_normalized_X = np.copy(normalized_X)\n",
    "orig_train_Y = np.copy(train_Y)\n",
    "permutation = np.random.permutation(len(train_X))\n",
    "normalized_X = normalized_X[permutation]\n",
    "train_Y = train_Y[permutation]"
   ]
  },
  {
   "cell_type": "code",
   "execution_count": 5,
   "metadata": {},
   "outputs": [],
   "source": [
    "class Model():\n",
    "    def __init__(self, hidden_units=50):\n",
    "        self.input_units, self.hidden_units, self.output_units = 2, hidden_units, 2 \n",
    "        self.W_1 = np.random.normal(0, 1,(self.hidden_units, 2))\n",
    "        #print('self.W_1', self.W_1.shape)\n",
    "        self.b_1 = np.random.normal(0, 1, (1,1))\n",
    "        #print('self.b_1', self.b_1.shape)\n",
    "        self.W_2 = np.random.normal(0, 1,(self.output_units, self.hidden_units))\n",
    "        #print('self.W_2', self.W_2.shape)\n",
    "        self.b_2 = np.random.normal(0, 1, (1,1))\n",
    "        #print('self.b_2', self.b_2.shape)\n",
    "    \n",
    "    def forward(self, j):\n",
    "        self.f_1 = np.dot(self.W_1, self.X_train[j]) + self.b_1\n",
    "        #print('self.f_1', self.f_1.shape)\n",
    "        self.a_1 = 1/(1+np.exp(-self.f_1))\n",
    "        #print('self.a_1', self.a_1)\n",
    "        self.f_2 = np.dot(self.W_2, self.a_1) + self.b_2\n",
    "        #print('self.f_2', self.f_2.shape)\n",
    "        self.a_2 = 1/(1+np.exp(-self.f_2))\n",
    "        #print('self.a_2', self.a_2)\n",
    "        return self.a_2\n",
    "    \n",
    "    def calculate_gradients(self, error, lr, j):\n",
    "        grad_se = -error\n",
    "        #print('grad_se', grad_se)\n",
    "        grad_a_2 = np.multiply(grad_se, np.multiply(self.a_2, 1-self.a_2)) \n",
    "        #print('grad_a_2', grad_a_2)\n",
    "        grad_b_2 = grad_a_2.sum(axis=0, keepdims=True) \n",
    "        #print('grad_b_2', grad_b_2.shape)\n",
    "        grad_W_2 = np.dot(grad_a_2, self.a_1.T)\n",
    "        #print('grad_W_2', grad_W_2.shape)\n",
    "        grad_a_1 = np.dot(self.W_2.T, grad_a_2)\n",
    "        #print('grad_a_1', grad_a_1.shape)\n",
    "        grad_f_1 = np.multiply(grad_a_1, np.multiply(self.a_1, 1-self.a_1))  \n",
    "        #print('grad_f_1', grad_f_1.shape)\n",
    "        grad_b_1 = grad_f_1.sum(axis=0, keepdims=True)\n",
    "        #print('grad_b_1', grad_b_1.shape)\n",
    "        grad_W_1 = (np.dot(self.X_train[j], grad_f_1.T)).T\n",
    "        #print('grad_W_1', grad_W_1.shape)\n",
    "        \n",
    "        self.W_1 -= lr*grad_W_1 \n",
    "        self.b_1 -= lr*grad_b_1 \n",
    "        \n",
    "        self.W_2 -= lr*grad_W_2 \n",
    "        self.b_2 -= lr*grad_b_2 \n",
    "        \n",
    "        '''\n",
    "        self.f_1 = np.zeros((1, self.hidden_units))\n",
    "        self.a_1 = np.zeros((1, self.hidden_units))\n",
    "        self.f_2 = np.zeros((1, self.output_units))\n",
    "        self.a_2 = np.zeros((1, self.output_units))\n",
    "        \n",
    "        grad_se = np.zeros((1, self.output_units))\n",
    "        grad_a_2 = np.zeros((1, self.output_units))\n",
    "        grad_b_2 = np.zeros((1, self.output_units))\n",
    "        grad_W_2 = np.zeros((self.hidden_units, self.output_units))\n",
    "        grad_a_1 = np.zeros((1, self.hidden_units))\n",
    "        grad_f_1 = np.zeros((1, self.hidden_units))\n",
    "        grad_b_1 = np.zeros((1, self.hidden_units))\n",
    "        grad_W_1 = np.zeros((2, self.hidden_units))\n",
    "        '''\n",
    "    \n",
    "    def train(self, X_train, Y_train, n_epochs=10, lr=0.1):\n",
    "        self.X_train = X_train\n",
    "        self.Y_train = Y_train\n",
    "        self.n_epochs = n_epochs\n",
    "        self.lr = lr\n",
    "        \n",
    "        for i in range(n_epochs):\n",
    "            e_loss = 0\n",
    "            e_acc = 0\n",
    "            for j in range(len(X_train)):\n",
    "                pred = self.forward(j)\n",
    "                Y_train[j] = np.expand_dims(Y_train[j], axis=0)\n",
    "                #print('pred','Y_train[j]',pred.shape, Y_train[j].shape)\n",
    "                error = Y_train[j] - pred\n",
    "                squared_loss = np.power(Y_train[j] - pred,2).sum()\n",
    "                \n",
    "                #print('pred',pred)\n",
    "                #print('error',squared_loss)\n",
    "                self.calculate_gradients(error, lr, j)\n",
    "                e_loss += squared_loss\n",
    "                e_acc += np.argmax(Y_train[j]) == np.argmax(pred)\n",
    "                #print()\n",
    "            print('Loss, acc:', e_loss, (e_acc/len(X_train))*100)\n",
    "            \n",
    "    def predict(self, item):\n",
    "        f_1 = np.dot(self.W_1, item) + self.b_1\n",
    "        a_1 = 1/(1+np.exp(-f_1))\n",
    "        f_2 = np.dot(self.W_2, a_1) + self.b_2\n",
    "        a_2 = 1/(1+np.exp(-f_2))\n",
    "        return a_2"
   ]
  },
  {
   "cell_type": "code",
   "execution_count": 6,
   "metadata": {},
   "outputs": [],
   "source": [
    "model = Model()"
   ]
  },
  {
   "cell_type": "code",
   "execution_count": 7,
   "metadata": {
    "scrolled": false
   },
   "outputs": [
    {
     "name": "stdout",
     "output_type": "stream",
     "text": [
      "Loss, acc: 25.988121910616663 91.0\n",
      "Loss, acc: 10.312095807343058 98.0\n",
      "Loss, acc: 7.32358564455169 98.0\n",
      "Loss, acc: 6.005175705856958 98.0\n",
      "Loss, acc: 5.265110938387665 98.0\n",
      "Loss, acc: 4.792382429461447 98.0\n",
      "Loss, acc: 4.464340241742168 98.0\n",
      "Loss, acc: 4.223185694116203 98.0\n",
      "Loss, acc: 4.038190800468335 98.0\n",
      "Loss, acc: 3.891532596512861 98.0\n"
     ]
    }
   ],
   "source": [
    "model.train(normalized_X, train_Y)"
   ]
  },
  {
   "cell_type": "code",
   "execution_count": 9,
   "metadata": {},
   "outputs": [
    {
     "data": {
      "text/plain": [
       "array([[0.79869678],\n",
       "       [0.19672225]])"
      ]
     },
     "execution_count": 9,
     "metadata": {},
     "output_type": "execute_result"
    }
   ],
   "source": [
    "model.predict(orig_normalized_X[99])"
   ]
  },
  {
   "cell_type": "code",
   "execution_count": 22,
   "metadata": {},
   "outputs": [],
   "source": [
    "a = np.array([[0.54603016],\n",
    "       [0.39660734]])"
   ]
  },
  {
   "cell_type": "code",
   "execution_count": 24,
   "metadata": {},
   "outputs": [
    {
     "data": {
      "text/plain": [
       "array([[ True],\n",
       "       [False]])"
      ]
     },
     "execution_count": 24,
     "metadata": {},
     "output_type": "execute_result"
    }
   ],
   "source": [
    "a>0.5 "
   ]
  },
  {
   "cell_type": "code",
   "execution_count": 26,
   "metadata": {},
   "outputs": [
    {
     "data": {
      "text/plain": [
       "array([[False],\n",
       "       [ True]])"
      ]
     },
     "execution_count": 26,
     "metadata": {},
     "output_type": "execute_result"
    }
   ],
   "source": [
    "train_Y[0] == 1"
   ]
  },
  {
   "cell_type": "code",
   "execution_count": 27,
   "metadata": {},
   "outputs": [
    {
     "data": {
      "text/plain": [
       "0"
      ]
     },
     "execution_count": 27,
     "metadata": {},
     "output_type": "execute_result"
    }
   ],
   "source": [
    "np.argmax(a)"
   ]
  },
  {
   "cell_type": "code",
   "execution_count": 28,
   "metadata": {},
   "outputs": [
    {
     "data": {
      "text/plain": [
       "1"
      ]
     },
     "execution_count": 28,
     "metadata": {},
     "output_type": "execute_result"
    }
   ],
   "source": [
    "np.argmax(train_Y[0])"
   ]
  },
  {
   "cell_type": "code",
   "execution_count": null,
   "metadata": {},
   "outputs": [],
   "source": []
  }
 ],
 "metadata": {
  "kernelspec": {
   "display_name": "Python 3",
   "language": "python",
   "name": "python3"
  },
  "language_info": {
   "codemirror_mode": {
    "name": "ipython",
    "version": 3
   },
   "file_extension": ".py",
   "mimetype": "text/x-python",
   "name": "python",
   "nbconvert_exporter": "python",
   "pygments_lexer": "ipython3",
   "version": "3.6.7"
  }
 },
 "nbformat": 4,
 "nbformat_minor": 2
}
