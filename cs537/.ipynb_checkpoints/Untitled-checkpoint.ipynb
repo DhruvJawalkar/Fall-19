{
 "cells": [
  {
   "cell_type": "code",
   "execution_count": 21,
   "metadata": {},
   "outputs": [],
   "source": [
    "import numpy as np\n",
    "from numpy import genfromtxt"
   ]
  },
  {
   "cell_type": "code",
   "execution_count": 22,
   "metadata": {},
   "outputs": [],
   "source": [
    "train_data = genfromtxt('./data/train1.csv', delimiter=',')\n",
    "train_X, train_Y = train_data[:,:2], train_data[:,2:]"
   ]
  },
  {
   "cell_type": "code",
   "execution_count": 23,
   "metadata": {},
   "outputs": [],
   "source": [
    "mean, std = train_X.mean(axis=0, keepdims=True), train_X.std(axis=0, keepdims=True)\n",
    "mean = mean - mean\n",
    "std = std/std\n",
    "normalized_X = (train_X - mean)/std\n",
    "normalized_X = np.expand_dims(normalized_X, axis=2)\n",
    "train_Y = np.expand_dims(train_Y, axis=2)\n",
    "\n",
    "orig_normalized_X = np.copy(normalized_X)\n",
    "orig_train_Y = np.copy(train_Y)\n",
    "permutation = np.random.permutation(len(train_X))\n",
    "normalized_X = normalized_X[permutation]\n",
    "train_Y = train_Y[permutation]"
   ]
  },
  {
   "cell_type": "code",
   "execution_count": 24,
   "metadata": {},
   "outputs": [],
   "source": [
    "class Model():\n",
    "    def __init__(self, hidden_units=10):\n",
    "        self.input_units, self.hidden_units, self.output_units = 2, hidden_units, 2 \n",
    "        self.W_1 = np.random.normal(0, 1,(self.hidden_units, 2))\n",
    "        self.b_1 = np.random.normal(0, 1, (1,1))\n",
    "        self.W_2 = np.random.normal(0, 1,(self.output_units, self.hidden_units))\n",
    "        self.b_2 = np.random.normal(0, 1, (1,1))\n",
    "    \n",
    "    def forward(self, j):\n",
    "        self.f_1 = np.dot(self.W_1, self.X_train[j]) + self.b_1\n",
    "        self.a_1 = 1/(1+np.exp(-self.f_1))\n",
    "        self.f_2 = np.dot(self.W_2, self.a_1) + self.b_2\n",
    "        self.a_2 = 1/(1+np.exp(-self.f_2))\n",
    "        return self.a_2\n",
    "    \n",
    "    def calculate_gradients(self, error, lr, j):\n",
    "        grad_se = -error\n",
    "        grad_a_2 = np.multiply(grad_se, np.multiply(self.a_2, 1-self.a_2)) \n",
    "        grad_b_2 = grad_a_2.sum(axis=0, keepdims=True) \n",
    "        grad_W_2 = np.dot(grad_a_2, self.a_1.T)\n",
    "        grad_a_1 = np.dot(self.W_2.T, grad_a_2)\n",
    "        grad_f_1 = np.multiply(grad_a_1, np.multiply(self.a_1, 1-self.a_1))  \n",
    "        grad_b_1 = grad_f_1.sum(axis=0, keepdims=True)\n",
    "        grad_W_1 = (np.dot(self.X_train[j], grad_f_1.T)).T\n",
    "        \n",
    "        self.W_1 -= lr*grad_W_1 \n",
    "        self.b_1 -= lr*grad_b_1 \n",
    "        \n",
    "        self.W_2 -= lr*grad_W_2 \n",
    "        self.b_2 -= lr*grad_b_2 \n",
    "        \n",
    "    \n",
    "    def train(self, X_train, Y_train, n_epochs=50, lr=0.1):\n",
    "        self.X_train = X_train\n",
    "        self.Y_train = Y_train\n",
    "        self.n_epochs = n_epochs\n",
    "        self.lr = lr\n",
    "        \n",
    "        for i in range(n_epochs):\n",
    "            e_loss = 0\n",
    "            e_acc = 0\n",
    "            for j in range(len(X_train)):\n",
    "                pred = self.forward(j)\n",
    "                error = Y_train[j] - pred\n",
    "                self.calculate_gradients(error, lr, j)\n",
    "                \n",
    "                squared_loss = np.power(Y_train[j] - pred,2).sum()\n",
    "                e_loss += squared_loss\n",
    "                e_acc += (np.argmax(Y_train[j]) == np.argmax(pred)) and pred[np.argmax(pred)] >= 0.5\n",
    "\n",
    "        print('Loss, acc:', e_loss, (e_acc/len(X_train))*100)\n",
    "            \n",
    "    def predict(self, X, Y):\n",
    "        e_loss = 0\n",
    "        e_acc = 0\n",
    "        for j in range(len(X)):\n",
    "            f_1 = np.dot(self.W_1, X[j]) + self.b_1\n",
    "            a_1 = 1/(1+np.exp(-f_1))\n",
    "            f_2 = np.dot(self.W_2, a_1) + self.b_2\n",
    "            a_2 = 1/(1+np.exp(-f_2))\n",
    "            pred = a_2\n",
    "            error = Y[j] - pred\n",
    "            squared_loss = np.power(Y[j] - pred,2).sum()\n",
    "            e_loss += squared_loss\n",
    "            e_acc += (np.argmax(Y[j]) == np.argmax(pred)) and pred[np.argmax(pred)] >= 0.5\n",
    "\n",
    "        print('Loss, acc:', e_loss, (e_acc/len(X))*100)\n",
    "        \n",
    "def report_results_on_test_set():\n",
    "    for i in range(1,4):\n",
    "        data = genfromtxt('./data/test'+str(i)+'.csv', delimiter=',')\n",
    "        X, Y = data[:,:2], data[:,2:]\n",
    "        X = (X - mean)/std\n",
    "        X = np.expand_dims(X, axis=2)\n",
    "        Y = np.expand_dims(Y, axis=2)\n",
    "        model.predict(X, Y)        "
   ]
  },
  {
   "cell_type": "code",
   "execution_count": 28,
   "metadata": {},
   "outputs": [
    {
     "name": "stdout",
     "output_type": "stream",
     "text": [
      "Training set results:\n",
      "Loss, acc: 21.50232471934151 [85.]\n",
      " \n",
      "Test set results:\n",
      "Loss, acc: 15.694457279354829 [90.]\n",
      "Loss, acc: 37.95652741856208 [66.]\n",
      "Loss, acc: 66.9739645314291 [51.]\n"
     ]
    }
   ],
   "source": [
    "model = Model(hidden_units=10)\n",
    "print('Training set results:')\n",
    "model.train(normalized_X, train_Y, n_epochs=2, lr=0.1)\n",
    "print(' ')\n",
    "print('Test set results:')\n",
    "report_results_on_test_set()"
   ]
  },
  {
   "cell_type": "code",
   "execution_count": 29,
   "metadata": {},
   "outputs": [],
   "source": []
  },
  {
   "cell_type": "code",
   "execution_count": 40,
   "metadata": {},
   "outputs": [
    {
     "name": "stderr",
     "output_type": "stream",
     "text": [
      "/Users/dhruv/miniconda3/envs/fastai-cpu/lib/python3.6/site-packages/ipykernel_launcher.py:8: RuntimeWarning: Second argument 'y' is ambiguous: could be a color spec but is in data; using as data.  Either rename the entry in data or use three arguments to plot.\n",
      "  \n"
     ]
    },
    {
     "data": {
      "text/plain": [
       "Text(0, 0.5, 'Accuracy (%)')"
      ]
     },
     "execution_count": 40,
     "metadata": {},
     "output_type": "execute_result"
    },
    {
     "data": {
      "image/png": "[encoded data removed]",
      "text/plain": [
       "<Figure size 432x288 with 1 Axes>"
      ]
     },
     "metadata": {
      "needs_background": "light"
     },
     "output_type": "display_data"
    }
   ],
   "source": [
    "'''\n",
    "import matplotlib.pyplot as plt\n",
    "import numpy as np\n",
    " \n",
    "# Data\n",
    "df={'x': np.array([0.001,0.01,0.1,1]), 'y': np.array([44,97, 98, 98])}\n",
    " \n",
    "# multiple line plot\n",
    "plt.plot( 'x', 'y', data=df, marker='o', markerfacecolor='blue', markersize=12, color='skyblue', linewidth=4)\n",
    "#plt.legend()\n",
    "plt.suptitle('Effect of learning rate on training set accuracy', fontsize=12)\n",
    "plt.xlabel('learning rate', fontsize=12)\n",
    "plt.ylabel('Accuracy (%)', fontsize=12)\n",
    "#plt.xticks(np.arange(0, 51, 1.0))\n",
    "'''"
   ]
  }
 ],
 "metadata": {
  "kernelspec": {
   "display_name": "Python 3",
   "language": "python",
   "name": "python3"
  },
  "language_info": {
   "codemirror_mode": {
    "name": "ipython",
    "version": 3
   },
   "file_extension": ".py",
   "mimetype": "text/x-python",
   "name": "python",
   "nbconvert_exporter": "python",
   "pygments_lexer": "ipython3",
   "version": "3.6.7"
  }
 },
 "nbformat": 4,
 "nbformat_minor": 2
}
