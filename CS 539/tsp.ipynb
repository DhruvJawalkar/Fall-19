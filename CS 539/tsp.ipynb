{
 "cells": [
  {
   "cell_type": "code",
   "execution_count": 1,
   "metadata": {},
   "outputs": [],
   "source": [
    "import networkx as nx\n",
    "import matplotlib.pyplot as plt\n",
    "import numpy as np\n",
    "import cvxpy as c\n",
    "import pickle\n",
    "\n",
    "import sys"
   ]
  },
  {
   "cell_type": "code",
   "execution_count": 173,
   "metadata": {},
   "outputs": [
    {
     "name": "stdout",
     "output_type": "stream",
     "text": [
      "CPU times: user 2 µs, sys: 1e+03 ns, total: 3 µs\n",
      "Wall time: 5.01 µs\n"
     ]
    }
   ],
   "source": [
    "%time\n",
    "#!/usr/bin/env python3\n",
    "# -*- coding: utf-8 -*-\n",
    "\"\"\"\n",
    "Created on Tue Nov 6 15:25:33 2018\n",
    "\n",
    "@author: sritee\n",
    "\"\"\"\n",
    "#Orienteering problem with Miller-Tucker-Zemlin formulation\n",
    "\n",
    "def get_cvx_solver_solution(nodes_list, budget, cost_matrix, origin_index):\n",
    "    origin_index = 0\n",
    "    num_nodes= len(nodes_list) #number of nodes in the Orienteering\n",
    "\n",
    "    total_time= budget\n",
    "\n",
    "    score_vector=np.ones((num_nodes)) #this will generate a random score matrix.\n",
    "    score_vector[0]=0 #since the 0th node, start node, has no value!\n",
    "\n",
    "    x=c.Variable((num_nodes,num_nodes),boolean=True) #x_ij is 1, if we travel from i to j in the tour.\n",
    "\n",
    "    u=c.Variable(num_nodes) #variables in subtour elimination constraints\n",
    "\n",
    "\n",
    "    cost=c.trace(c.matmul(cost_matrix.T,x)) #total cost of the tour\n",
    "    profit=c.sum(c.matmul(x,score_vector))\n",
    "\n",
    "    ones_arr=np.ones([num_nodes]) #array for ones\n",
    "    ones_arr[origin_index] = 0\n",
    "    constraints=[]\n",
    "\n",
    "    #now, let us make sure each node is visited only once, and we leave only once from that node.\n",
    "\n",
    "    constraints.append(c.sum(x[origin_index,:])==1)  #we leave from the first node\n",
    "    constraints.append(c.sum(x[:,origin_index])==1) #we come back to the first node\n",
    "\n",
    "    constraints.append(c.matmul(x.T,ones_arr)<=1)  #max one connection outgoing and incoming\n",
    "    constraints.append(c.matmul(x,ones_arr)<=1)\n",
    "\n",
    "    for i in range(1,num_nodes):\n",
    "        constraints.append(c.sum(x[:,i])==c.sum(x[i,:]))\n",
    "    #let us add the time constraints\n",
    "\n",
    "    constraints.append(cost<=total_time)\n",
    "    constraints.append(profit<=len(nodes_list))\n",
    "    #Let us add the subtour elimination constraints (Miller-Tucker-Zemlin similar formulation)\n",
    "\n",
    "    for i in range(1,num_nodes):\n",
    "        for j in range(1,num_nodes):\n",
    "            if i!=j:\n",
    "                constraints.append((u[i]-u[j]+num_nodes*x[i,j]-num_nodes+1<=0))\n",
    "            else:\n",
    "                continue\n",
    "\n",
    "    prob=c.Problem(c.Maximize(profit),constraints)\n",
    "\n",
    "    prob.solve()\n",
    "\n",
    "    if np.any(x.value==None): #no feasible solution found!\n",
    "\n",
    "        print('Feasible solution not found, lower your time constraint!') \n",
    "\n",
    "    #print(x.value.astype('int32'))\n",
    "    #print(cost_matrix)\n",
    "\n",
    "    print(origin_index)\n",
    "    tour=[origin_index] #.the final tour we have found will be stored here. Initialize with start node.\n",
    "    verified_cost=0 #builds up the cost of the tour, independently from the gurobi solver. We use this as a sanity check.\n",
    "\n",
    "    now_node=origin_index #Initialize at start node\n",
    "\n",
    "\n",
    "    while(1): #till we reach end node\n",
    "\n",
    "        next_node=np.argmax(x.value[now_node,:]) #where  we go from node i\n",
    "        verified_cost=verified_cost+cost_matrix[now_node,next_node] #build up the cost\n",
    "        tour.append(next_node) #for 1 based indexing\n",
    "        now_node=next_node\n",
    "        if next_node==origin_index: #we have looped again\n",
    "            break\n",
    "\n",
    "    print('Profit of tour found by the solver is {}, cost of it is {}, and cost computed by us for verification is {} '.format(round(prob.value,2),cost.value,round(verified_cost,2)))\n",
    "    print('tour: ', tour[:-1])\n",
    "    return tour[:-1]\n",
    "\n",
    "def get_list_of_index_tuples(dim_1=24, dim_2=24):\n",
    "    index_tuples = []\n",
    "    for j in range(dim_2):\n",
    "        for i in range(dim_1):\n",
    "            index_tuples.append((i,j))\n",
    "    return index_tuples\n",
    "\n",
    "def get_nodes_and_edges_list_for_graph(Image, list_of_index_tuples):    \n",
    "    dim_1, dim_2 = Image.shape\n",
    "    nodes_list = []\n",
    "    edges_list = []\n",
    "    for i, p_1 in enumerate(list_of_index_tuples):\n",
    "        if(Image[p_1]):\n",
    "            nodes_list.append(p_1)\n",
    "            \n",
    "        for j, p_2 in enumerate(nodes_list):\n",
    "            diff = np.abs(np.array(p_1)-np.array(p_2)).sum()\n",
    "            \n",
    "            if(diff==1 and Image[p_1] and Image[p_2]):\n",
    "                edges_list.append((p_1, p_2))\n",
    "\n",
    "    return nodes_list, edges_list      \n",
    "\n",
    "def get_index(nodes_list, origin):\n",
    "    for i in range(len(nodes_list)):\n",
    "        if(nodes_list[i]==origin):\n",
    "            return i\n",
    "    return -1    \n",
    "\n",
    "def get_cost_matrix(G, nodes_list, origin_index):\n",
    "    origin_index = 0\n",
    "    cost_matrix = np.zeros((len(nodes_list), len(nodes_list)))\n",
    "    for i,n1 in enumerate(nodes_list):\n",
    "        for j,n2 in enumerate(nodes_list):\n",
    "            if(i!=j): #and np.abs(np.array(n1)-np.array(n2)).sum()<=1):\n",
    "                if(j==origin_index):\n",
    "                    cost_matrix[(i,j)] = 0\n",
    "                else:    \n",
    "                    cost_matrix[(i,j)] = nx.shortest_path_length(G, n1, n2)\n",
    "            else:    \n",
    "                cost_matrix[(i,j)] = 1000\n",
    "    return cost_matrix  \n",
    "\n",
    "def get_path_from_indices(G, nodes_list, indices):\n",
    "    result = []\n",
    "    retraced_indicator = []\n",
    "    for i, idx in enumerate(indices):\n",
    "        if(i==0):\n",
    "            result.append(nodes_list[idx])\n",
    "            retraced_indicator.append(0)\n",
    "            prev_node = result[-1]\n",
    "            \n",
    "        elif(np.abs(np.array(prev_node) - np.array(nodes_list[idx])).sum()>1):\n",
    "            retracing_path = nx.shortest_path(G, prev_node, nodes_list[idx])\n",
    "            \n",
    "            for j in range(1, len(retracing_path)):\n",
    "                retraced_indicator.append(retracing_path[j] in result)\n",
    "                result.append(retracing_path[j])\n",
    "                \n",
    "            retraced_indicator[-1] = 0\n",
    "            prev_node = result[-1]\n",
    "            \n",
    "        else:\n",
    "            retraced_indicator.append(nodes_list[idx] in result)\n",
    "            result.append(nodes_list[idx])\n",
    "            prev_node = result[-1]\n",
    "    return result, retraced_indicator\n",
    "\n",
    "def plot_cur_pos_with_retraced(cur, prev, axes, retraced_indicator):    \n",
    "    direction = np.array(cur) - np.array(prev)    \n",
    "    if(retraced_indicator):\n",
    "        axes.arrow(prev[1],prev[0], direction[1], direction[0], color='g', ls='--', width=0.05)\n",
    "    else:    \n",
    "        axes.arrow(prev[1],prev[0], direction[1], direction[0], color='b', ls='--', width=0.1)\n",
    "    \n",
    "def plot_path_with_retraced(Image, origin, dest, path, retraced_indicator):\n",
    "    fig, axes = plt.subplots(1,1, figsize=(12,12))\n",
    "    axes.imshow(Image, cmap='gray')\n",
    "    axes.plot(origin[1], origin[0], marker=\"s\", color=\"r\",markersize=20)\n",
    "    axes.plot(dest[1], dest[0], marker=\"*\", color=\"g\", markersize=20)\n",
    "\n",
    "    for i in range(1, len(path)):\n",
    "        plot_cur_pos_with_retraced(path[i], path[i-1], axes, retraced_indicator[i])\n",
    "\n",
    "    plt.show()        \n",
    "\n",
    "def plot_cur_pos(cur, prev, axes):    \n",
    "    direction = np.array(cur) - np.array(prev)    \n",
    "    axes.arrow(prev[1],prev[0], direction[1], direction[0], color='b', ls='--', width=0.1)\n",
    "    \n",
    "def plot_path(Image, origin, dest, path):\n",
    "    fig, axes = plt.subplots(1,1, figsize=(12,12))\n",
    "    axes.imshow(Image, cmap='gray')\n",
    "    axes.plot(origin[1], origin[0], marker=\"s\", color=\"r\",markersize=20)\n",
    "    axes.plot(dest[1], dest[0], marker=\"*\", color=\"g\", markersize=20)\n",
    "\n",
    "    for i in range(1, len(path)):\n",
    "        plot_cur_pos(path[i], path[i-1], axes)\n",
    "\n",
    "    plt.show()          "
   ]
  },
  {
   "cell_type": "code",
   "execution_count": 113,
   "metadata": {},
   "outputs": [],
   "source": [
    "favorite_color = pickle.load( open( \"synthetic_data/variable/image_dataset_24.pickle\", \"rb\" ) )"
   ]
  },
  {
   "cell_type": "code",
   "execution_count": 114,
   "metadata": {},
   "outputs": [
    {
     "data": {
      "text/plain": [
       "<matplotlib.image.AxesImage at 0x1291dba10>"
      ]
     },
     "execution_count": 114,
     "metadata": {},
     "output_type": "execute_result"
    },
    {
     "data": {
      "image/png": "[encoded data removed]",
      "text/plain": [
       "<Figure size 432x288 with 1 Axes>"
      ]
     },
     "metadata": {
      "needs_background": "light"
     },
     "output_type": "display_data"
    }
   ],
   "source": [
    "rand_idx = np.random.randint(0, len(favorite_color['train']))\n",
    "test_image = favorite_color['train'][rand_idx]\n",
    "plt.imshow(test_image, cmap=\"gray\")"
   ]
  },
  {
   "cell_type": "code",
   "execution_count": 160,
   "metadata": {},
   "outputs": [],
   "source": [
    "\n",
    "#dest = (3, 3)\n",
    "\n",
    "G = nx.Graph()\n",
    "list_of_index_tuples = get_list_of_index_tuples(test_image.shape[0], test_image.shape[0])\n",
    "nodes_list, edges_list = get_nodes_and_edges_list_for_graph(test_image, list_of_index_tuples)\n",
    "\n",
    "#rand_idx = np.random.randint(0, )\n",
    "origin = nodes_list[0]\n",
    "G.add_nodes_from(nodes_list)\n",
    "G.add_edges_from(edges_list)\n",
    "origin_index = get_index(nodes_list, origin)\n",
    "cost_matrix = get_cost_matrix(G, nodes_list, origin_index)"
   ]
  },
  {
   "cell_type": "code",
   "execution_count": 172,
   "metadata": {},
   "outputs": [
    {
     "data": {
      "text/plain": [
       "63"
      ]
     },
     "execution_count": 172,
     "metadata": {},
     "output_type": "execute_result"
    }
   ],
   "source": [
    "len(nodes_list)"
   ]
  },
  {
   "cell_type": "code",
   "execution_count": 182,
   "metadata": {},
   "outputs": [
    {
     "name": "stdout",
     "output_type": "stream",
     "text": [
      "Warning for adding constraints: zero or small (< 1e-13) coefficients, ignored\n"
     ]
    },
    {
     "ename": "SolverError",
     "evalue": "Solver 'GUROBI' failed. Try another solver, or solve with verbose=True for more information.",
     "output_type": "error",
     "traceback": [
      "\u001b[0;31m---------------------------------------------------------------------------\u001b[0m",
      "\u001b[0;31mSolverError\u001b[0m                               Traceback (most recent call last)",
      "\u001b[0;32m<ipython-input-182-4380eb18607d>\u001b[0m in \u001b[0;36m<module>\u001b[0;34m\u001b[0m\n\u001b[0;32m----> 1\u001b[0;31m \u001b[0mtour\u001b[0m \u001b[0;34m=\u001b[0m \u001b[0mget_cvx_solver_solution\u001b[0m\u001b[0;34m(\u001b[0m\u001b[0mnodes_list\u001b[0m\u001b[0;34m,\u001b[0m \u001b[0;36m90\u001b[0m\u001b[0;34m,\u001b[0m \u001b[0mcost_matrix\u001b[0m\u001b[0;34m,\u001b[0m \u001b[0morigin_index\u001b[0m\u001b[0;34m)\u001b[0m\u001b[0;34m\u001b[0m\u001b[0;34m\u001b[0m\u001b[0m\n\u001b[0m\u001b[1;32m      2\u001b[0m \u001b[0mresultant_path\u001b[0m\u001b[0;34m,\u001b[0m \u001b[0mretraced_indicator\u001b[0m \u001b[0;34m=\u001b[0m \u001b[0mget_path_from_indices\u001b[0m\u001b[0;34m(\u001b[0m\u001b[0mG\u001b[0m\u001b[0;34m,\u001b[0m \u001b[0mnodes_list\u001b[0m\u001b[0;34m,\u001b[0m \u001b[0mtour\u001b[0m\u001b[0;34m)\u001b[0m\u001b[0;34m\u001b[0m\u001b[0;34m\u001b[0m\u001b[0m\n\u001b[1;32m      3\u001b[0m \u001b[0mplot_path_with_retraced\u001b[0m\u001b[0;34m(\u001b[0m\u001b[0mtest_image\u001b[0m\u001b[0;34m,\u001b[0m \u001b[0morigin\u001b[0m\u001b[0;34m,\u001b[0m \u001b[0mresultant_path\u001b[0m\u001b[0;34m[\u001b[0m\u001b[0;34m-\u001b[0m\u001b[0;36m1\u001b[0m\u001b[0;34m]\u001b[0m\u001b[0;34m,\u001b[0m \u001b[0mresultant_path\u001b[0m\u001b[0;34m,\u001b[0m \u001b[0mretraced_indicator\u001b[0m\u001b[0;34m)\u001b[0m\u001b[0;34m\u001b[0m\u001b[0;34m\u001b[0m\u001b[0m\n",
      "\u001b[0;32m<ipython-input-173-fc6b68ade6cc>\u001b[0m in \u001b[0;36mget_cvx_solver_solution\u001b[0;34m(nodes_list, budget, cost_matrix, origin_index)\u001b[0m\n\u001b[1;32m     55\u001b[0m     \u001b[0mprob\u001b[0m\u001b[0;34m=\u001b[0m\u001b[0mc\u001b[0m\u001b[0;34m.\u001b[0m\u001b[0mProblem\u001b[0m\u001b[0;34m(\u001b[0m\u001b[0mc\u001b[0m\u001b[0;34m.\u001b[0m\u001b[0mMaximize\u001b[0m\u001b[0;34m(\u001b[0m\u001b[0mprofit\u001b[0m\u001b[0;34m)\u001b[0m\u001b[0;34m,\u001b[0m\u001b[0mconstraints\u001b[0m\u001b[0;34m)\u001b[0m\u001b[0;34m\u001b[0m\u001b[0;34m\u001b[0m\u001b[0m\n\u001b[1;32m     56\u001b[0m \u001b[0;34m\u001b[0m\u001b[0m\n\u001b[0;32m---> 57\u001b[0;31m     \u001b[0mprob\u001b[0m\u001b[0;34m.\u001b[0m\u001b[0msolve\u001b[0m\u001b[0;34m(\u001b[0m\u001b[0;34m)\u001b[0m\u001b[0;34m\u001b[0m\u001b[0;34m\u001b[0m\u001b[0m\n\u001b[0m\u001b[1;32m     58\u001b[0m \u001b[0;34m\u001b[0m\u001b[0m\n\u001b[1;32m     59\u001b[0m     \u001b[0;32mif\u001b[0m \u001b[0mnp\u001b[0m\u001b[0;34m.\u001b[0m\u001b[0many\u001b[0m\u001b[0;34m(\u001b[0m\u001b[0mx\u001b[0m\u001b[0;34m.\u001b[0m\u001b[0mvalue\u001b[0m\u001b[0;34m==\u001b[0m\u001b[0;32mNone\u001b[0m\u001b[0;34m)\u001b[0m\u001b[0;34m:\u001b[0m \u001b[0;31m#no feasible solution found!\u001b[0m\u001b[0;34m\u001b[0m\u001b[0;34m\u001b[0m\u001b[0m\n",
      "\u001b[0;32m~/miniconda3/envs/gurobi/lib/python3.7/site-packages/cvxpy/problems/problem.py\u001b[0m in \u001b[0;36msolve\u001b[0;34m(self, *args, **kwargs)\u001b[0m\n\u001b[1;32m    287\u001b[0m         \u001b[0;32melse\u001b[0m\u001b[0;34m:\u001b[0m\u001b[0;34m\u001b[0m\u001b[0;34m\u001b[0m\u001b[0m\n\u001b[1;32m    288\u001b[0m             \u001b[0msolve_func\u001b[0m \u001b[0;34m=\u001b[0m \u001b[0mProblem\u001b[0m\u001b[0;34m.\u001b[0m\u001b[0m_solve\u001b[0m\u001b[0;34m\u001b[0m\u001b[0;34m\u001b[0m\u001b[0m\n\u001b[0;32m--> 289\u001b[0;31m         \u001b[0;32mreturn\u001b[0m \u001b[0msolve_func\u001b[0m\u001b[0;34m(\u001b[0m\u001b[0mself\u001b[0m\u001b[0;34m,\u001b[0m \u001b[0;34m*\u001b[0m\u001b[0margs\u001b[0m\u001b[0;34m,\u001b[0m \u001b[0;34m**\u001b[0m\u001b[0mkwargs\u001b[0m\u001b[0;34m)\u001b[0m\u001b[0;34m\u001b[0m\u001b[0;34m\u001b[0m\u001b[0m\n\u001b[0m\u001b[1;32m    290\u001b[0m \u001b[0;34m\u001b[0m\u001b[0m\n\u001b[1;32m    291\u001b[0m     \u001b[0;34m@\u001b[0m\u001b[0mclassmethod\u001b[0m\u001b[0;34m\u001b[0m\u001b[0;34m\u001b[0m\u001b[0m\n",
      "\u001b[0;32m~/miniconda3/envs/gurobi/lib/python3.7/site-packages/cvxpy/problems/problem.py\u001b[0m in \u001b[0;36m_solve\u001b[0;34m(self, solver, warm_start, verbose, parallel, gp, qcp, **kwargs)\u001b[0m\n\u001b[1;32m    572\u001b[0m         \u001b[0mfull_chain\u001b[0m \u001b[0;34m=\u001b[0m \u001b[0mself\u001b[0m\u001b[0;34m.\u001b[0m\u001b[0m_solving_chain\u001b[0m\u001b[0;34m.\u001b[0m\u001b[0mprepend\u001b[0m\u001b[0;34m(\u001b[0m\u001b[0mself\u001b[0m\u001b[0;34m.\u001b[0m\u001b[0m_intermediate_chain\u001b[0m\u001b[0;34m)\u001b[0m\u001b[0;34m\u001b[0m\u001b[0;34m\u001b[0m\u001b[0m\n\u001b[1;32m    573\u001b[0m         \u001b[0minverse_data\u001b[0m \u001b[0;34m=\u001b[0m \u001b[0mself\u001b[0m\u001b[0;34m.\u001b[0m\u001b[0m_intermediate_inverse_data\u001b[0m \u001b[0;34m+\u001b[0m \u001b[0msolving_inverse_data\u001b[0m\u001b[0;34m\u001b[0m\u001b[0;34m\u001b[0m\u001b[0m\n\u001b[0;32m--> 574\u001b[0;31m         \u001b[0mself\u001b[0m\u001b[0;34m.\u001b[0m\u001b[0munpack_results\u001b[0m\u001b[0;34m(\u001b[0m\u001b[0msolution\u001b[0m\u001b[0;34m,\u001b[0m \u001b[0mfull_chain\u001b[0m\u001b[0;34m,\u001b[0m \u001b[0minverse_data\u001b[0m\u001b[0;34m)\u001b[0m\u001b[0;34m\u001b[0m\u001b[0;34m\u001b[0m\u001b[0m\n\u001b[0m\u001b[1;32m    575\u001b[0m         \u001b[0;32mreturn\u001b[0m \u001b[0mself\u001b[0m\u001b[0;34m.\u001b[0m\u001b[0mvalue\u001b[0m\u001b[0;34m\u001b[0m\u001b[0;34m\u001b[0m\u001b[0m\n\u001b[1;32m    576\u001b[0m \u001b[0;34m\u001b[0m\u001b[0m\n",
      "\u001b[0;32m~/miniconda3/envs/gurobi/lib/python3.7/site-packages/cvxpy/problems/problem.py\u001b[0m in \u001b[0;36munpack_results\u001b[0;34m(self, solution, chain, inverse_data)\u001b[0m\n\u001b[1;32m    715\u001b[0m             raise error.SolverError(\n\u001b[1;32m    716\u001b[0m                     \u001b[0;34m\"Solver '%s' failed. \"\u001b[0m \u001b[0;34m%\u001b[0m \u001b[0mchain\u001b[0m\u001b[0;34m.\u001b[0m\u001b[0msolver\u001b[0m\u001b[0;34m.\u001b[0m\u001b[0mname\u001b[0m\u001b[0;34m(\u001b[0m\u001b[0;34m)\u001b[0m \u001b[0;34m+\u001b[0m\u001b[0;34m\u001b[0m\u001b[0;34m\u001b[0m\u001b[0m\n\u001b[0;32m--> 717\u001b[0;31m                     \u001b[0;34m\"Try another solver, or solve with verbose=True for more \"\u001b[0m\u001b[0;34m\u001b[0m\u001b[0;34m\u001b[0m\u001b[0m\n\u001b[0m\u001b[1;32m    718\u001b[0m                     \"information.\")\n\u001b[1;32m    719\u001b[0m         \u001b[0mself\u001b[0m\u001b[0;34m.\u001b[0m\u001b[0munpack\u001b[0m\u001b[0;34m(\u001b[0m\u001b[0msolution\u001b[0m\u001b[0;34m)\u001b[0m\u001b[0;34m\u001b[0m\u001b[0;34m\u001b[0m\u001b[0m\n",
      "\u001b[0;31mSolverError\u001b[0m: Solver 'GUROBI' failed. Try another solver, or solve with verbose=True for more information."
     ]
    }
   ],
   "source": [
    "tour = get_cvx_solver_solution(nodes_list, 90, cost_matrix, origin_index)\n",
    "resultant_path, retraced_indicator = get_path_from_indices(G, nodes_list, tour)\n",
    "plot_path_with_retraced(test_image, origin, resultant_path[-1], resultant_path, retraced_indicator)"
   ]
  },
  {
   "cell_type": "code",
   "execution_count": 71,
   "metadata": {
    "scrolled": false
   },
   "outputs": [
    {
     "name": "stdout",
     "output_type": "stream",
     "text": [
      "Gurobi Optimizer version 9.0.0 build v9.0.0rc2 (mac64)\n",
      "Optimize a model with 135 rows, 109 columns and 623 nonzeros\n",
      "Model fingerprint: 0x1eaf00a6\n",
      "Variable types: 0 continuous, 109 integer (100 binary)\n",
      "Coefficient statistics:\n",
      "  Matrix range     [1e+00, 1e+03]\n",
      "  Objective range  [1e+00, 1e+00]\n",
      "  Bounds range     [1e+00, 1e+00]\n",
      "  RHS range        [1e+00, 1e+01]\n",
      "Found heuristic solution: objective 1.0000000\n",
      "Presolve removed 50 rows and 33 columns\n",
      "Presolve time: 0.00s\n",
      "Presolved: 85 rows, 76 columns, 416 nonzeros\n",
      "Variable types: 0 continuous, 76 integer (68 binary)\n",
      "\n",
      "Root relaxation: objective 8.000000e+00, 36 iterations, 0.00 seconds\n",
      "\n",
      "    Nodes    |    Current Node    |     Objective Bounds      |     Work\n",
      " Expl Unexpl |  Obj  Depth IntInf | Incumbent    BestBd   Gap | It/Node Time\n",
      "\n",
      "H    0     0                       8.0000000   53.00000   562%     -    0s\n",
      "     0     0          -    0         8.00000    8.00000  0.00%     -    0s\n",
      "\n",
      "Explored 0 nodes (74 simplex iterations) in 0.01 seconds\n",
      "Thread count was 12 (of 12 available processors)\n",
      "\n",
      "Solution count 2: 8 1 \n",
      "\n",
      "Optimal solution found (tolerance 1.00e-04)\n",
      "Best objective 8.000000000000e+00, best bound 8.000000000000e+00, gap 0.0000%\n",
      "Obj: 8\n"
     ]
    }
   ],
   "source": [
    "import gurobipy as grb\n",
    "import math\n",
    "\n",
    "n = len(nodes_list)\n",
    "Distance = 5\n",
    "opt_model = grb.Model(name=\"Orienteering Problem\")\n",
    "\n",
    "# <= Variables\n",
    "x_vars = {}\n",
    "for i in range(n):\n",
    "    for j in range(n):\n",
    "        x_vars[i,j] = opt_model.addVar(vtype=grb.GRB.BINARY,\n",
    "                          name='e'+str(i)+'_'+str(j))\n",
    "u={}\n",
    "for i in range(1,n):\n",
    "    u[i]=opt_model.addVar(vtype=grb.GRB.INTEGER,\n",
    "                          name='e'+str(i))\n",
    "\n",
    "for i in range(n-1):\n",
    "    opt_model.addConstr(grb.quicksum(x_vars[i,j]*cost_matrix[(i,j)] for j in range(1,n)) <= Distance)\n",
    "    \n",
    "# <= Constraint (Mandatory Edges and excluding vertexes) Eq(1)\n",
    "\n",
    "\n",
    "opt_model.addConstr((grb.quicksum(x_vars[1,j] for j in range(1,n)))  == 1)\n",
    "opt_model.addConstr((grb.quicksum(x_vars[i,n-1] for i in range(n-1))) == 1)\n",
    "opt_model.addConstr((grb.quicksum(x_vars[i,i] for i in range(n-1)))  == 0)\n",
    "# <= Constraint (Distance) Eq(3)\n",
    "\n",
    "\n",
    "\n",
    "\n",
    "\n",
    "# <= Constraint (Equality & Single edge in and out) Eq(2)\n",
    "\n",
    "for k in range(1, n-1):\n",
    "    opt_model.addConstr(grb.quicksum(x_vars[i,k] for i in range(n-1)) == grb.quicksum(x_vars[k,j] for j in range(1, n)))  \n",
    "    opt_model.addConstr(grb.quicksum(x_vars[i,k] for i in range(n-1))<=1)\n",
    "    opt_model.addConstr(grb.quicksum(x_vars[k,j] for j in range(1, n))<=1)\n",
    "                    \n",
    "\n",
    "# <= Constraint (Subtour elimination) Eq(4) Eq(5)\n",
    "\n",
    "for i in range(1,n):\n",
    "    opt_model.addConstr(2 <= u[i])\n",
    "    opt_model.addConstr(u[i] <= n)\n",
    "\n",
    "for i in range(1,n):\n",
    "    for j in range(1,n):\n",
    "        opt_model.addConstr((u[i] - u[j] +1 <= (n-1)*(1-x_vars[j,i])))\n",
    "\n",
    "# <= objective (maximize) Eq(1)\n",
    "\n",
    "objective = grb.quicksum(x_vars[i,j]\n",
    "                         for i in range(1, n-1)\n",
    "                         for j in range(1, n))\n",
    "\n",
    "opt_model.ModelSense = grb.GRB.MAXIMIZE\n",
    "opt_model.setObjective(objective)\n",
    "opt_model.optimize()\n",
    "\n",
    "print('Obj: %g' % opt_model.objVal)"
   ]
  },
  {
   "cell_type": "code",
   "execution_count": 72,
   "metadata": {},
   "outputs": [],
   "source": [
    "select = grb.tuplelist((i,j) for i,j in x_vars.keys() if x_vars[i,j].X > 0.5)"
   ]
  },
  {
   "cell_type": "code",
   "execution_count": 73,
   "metadata": {},
   "outputs": [
    {
     "data": {
      "text/plain": [
       "<gurobi.tuplelist (9 tuples, 2 values each):\n",
       " ( 0 , 4 )\n",
       " ( 1 , 3 )\n",
       " ( 2 , 1 )\n",
       " ( 3 , 6 )\n",
       " ( 4 , 5 )\n",
       " ( 5 , 8 )\n",
       " ( 6 , 9 )\n",
       " ( 7 , 2 )\n",
       " ( 8 , 7 )\n",
       ">"
      ]
     },
     "execution_count": 73,
     "metadata": {},
     "output_type": "execute_result"
    }
   ],
   "source": [
    "select"
   ]
  },
  {
   "cell_type": "code",
   "execution_count": 74,
   "metadata": {},
   "outputs": [],
   "source": [
    "def get_path(tupleslist, budget, cost_matrix):\n",
    "    path = {}\n",
    "    indices = []\n",
    "    for n1,n2 in tupleslist:\n",
    "        path[n1] = n2\n",
    "    accumulated_cost = 0    \n",
    "    start_node = 0\n",
    "    indices.append(start_node)\n",
    "    \n",
    "    while(accumulated_cost<=budget and start_node<len(tupleslist)):\n",
    "        indices.append(path[start_node])\n",
    "        accumulated_cost += cost_matrix[(start_node, path[start_node])]\n",
    "        start_node = path[start_node]\n",
    "        \n",
    "        print(indices)\n",
    "    return indices    "
   ]
  },
  {
   "cell_type": "code",
   "execution_count": 75,
   "metadata": {},
   "outputs": [
    {
     "name": "stdout",
     "output_type": "stream",
     "text": [
      "[0, 4]\n",
      "[0, 4, 5]\n",
      "[0, 4, 5, 8]\n",
      "[0, 4, 5, 8, 7]\n",
      "[0, 4, 5, 8, 7, 2]\n",
      "[0, 4, 5, 8, 7, 2, 1]\n",
      "[0, 4, 5, 8, 7, 2, 1, 3]\n",
      "[0, 4, 5, 8, 7, 2, 1, 3, 6]\n",
      "[0, 4, 5, 8, 7, 2, 1, 3, 6, 9]\n"
     ]
    }
   ],
   "source": [
    "res = get_path(select, 20, cost_matrix)"
   ]
  },
  {
   "cell_type": "code",
   "execution_count": 76,
   "metadata": {},
   "outputs": [
    {
     "data": {
      "image/png": "[encoded data removed]",
      "text/plain": [
       "<Figure size 864x864 with 1 Axes>"
      ]
     },
     "metadata": {
      "needs_background": "light"
     },
     "output_type": "display_data"
    }
   ],
   "source": [
    "resultant_path, retraced_indicator = get_path_from_indices(G, nodes_list, res)\n",
    "plot_path_with_retraced(image_5x5, origin, resultant_path[-1], resultant_path, retraced_indicator)"
   ]
  },
  {
   "cell_type": "code",
   "execution_count": 77,
   "metadata": {},
   "outputs": [
    {
     "data": {
      "text/plain": [
       "[(0, 0),\n",
       " (0, 1),\n",
       " (1, 1),\n",
       " (1, 2),\n",
       " (2, 2),\n",
       " (2, 3),\n",
       " (2, 2),\n",
       " (1, 2),\n",
       " (1, 1),\n",
       " (1, 0),\n",
       " (2, 0),\n",
       " (1, 0),\n",
       " (2, 0),\n",
       " (3, 0),\n",
       " (2, 0),\n",
       " (1, 0),\n",
       " (1, 1),\n",
       " (1, 2),\n",
       " (2, 2),\n",
       " (2, 3),\n",
       " (3, 3)]"
      ]
     },
     "execution_count": 77,
     "metadata": {},
     "output_type": "execute_result"
    }
   ],
   "source": [
    "resultant_path"
   ]
  },
  {
   "cell_type": "code",
   "execution_count": null,
   "metadata": {},
   "outputs": [],
   "source": []
  }
 ],
 "metadata": {
  "kernelspec": {
   "display_name": "Python 3",
   "language": "python",
   "name": "python3"
  },
  "language_info": {
   "codemirror_mode": {
    "name": "ipython",
    "version": 3
   },
   "file_extension": ".py",
   "mimetype": "text/x-python",
   "name": "python",
   "nbconvert_exporter": "python",
   "pygments_lexer": "ipython3",
   "version": "3.7.5"
  }
 },
 "nbformat": 4,
 "nbformat_minor": 2
}
