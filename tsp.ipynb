{
 "cells": [
  {
   "cell_type": "code",
   "execution_count": 130,
   "metadata": {},
   "outputs": [],
   "source": [
    "import networkx as nx\n",
    "import matplotlib.pyplot as plt\n",
    "import numpy as np\n",
    "import cvxpy as c"
   ]
  },
  {
   "cell_type": "code",
   "execution_count": null,
   "metadata": {},
   "outputs": [],
   "source": [
    "tunnelMapData = pickle.load(open(\"./synthetic_data/variable/image_dataset_24.pickle\",\"rb\"))\n",
    "groundTruthData = pickle.load(open(\"./synthetic_data/variable/ground_truth_dataset_24.pickle\",\"rb\"))\n",
    "frontierVectorData = pickle.load(open(\"./synthetic_data/variable/frontier_dataset_24.pickle\",\"rb\"))\n",
    "maskData = pickle.load(open(\"./synthetic_data/variable/mask_dataset_24.pickle\",\"rb\"))"
   ]
  },
  {
   "cell_type": "code",
   "execution_count": null,
   "metadata": {},
   "outputs": [],
   "source": []
  },
  {
   "cell_type": "code",
   "execution_count": 131,
   "metadata": {},
   "outputs": [],
   "source": [
    "def get_list_of_index_tuples(dim_1=24, dim_2=24):\n",
    "    index_tuples = []\n",
    "    for j in range(dim_2):\n",
    "        for i in range(dim_1):\n",
    "            index_tuples.append((i,j))\n",
    "    return index_tuples\n",
    "\n",
    "def get_nodes_and_edges_list_for_graph(Image, list_of_index_tuples):    \n",
    "    dim_1, dim_2 = Image.shape\n",
    "    nodes_list = []\n",
    "    edges_list = []\n",
    "    for i, p_1 in enumerate(list_of_index_tuples):\n",
    "        if(Image[p_1]):\n",
    "            nodes_list.append(p_1)\n",
    "            \n",
    "        for j, p_2 in enumerate(nodes_list):\n",
    "            diff = np.abs(np.array(p_1)-np.array(p_2)).sum()\n",
    "            \n",
    "            if(diff==1 and Image[p_1] and Image[p_2]):\n",
    "                edges_list.append((p_1, p_2))\n",
    "\n",
    "    return nodes_list, edges_list      \n",
    "\n",
    "def get_index(nodes_list, origin):\n",
    "    for i in range(len(nodes_list)):\n",
    "        if(nodes_list[i]==origin):\n",
    "            return i\n",
    "    return -1    \n",
    "\n",
    "def plot_cur_pos(cur, prev, axes):    \n",
    "    direction = np.array(cur) - np.array(prev)\n",
    "    axes.arrow(prev[1],prev[0], direction[1], direction[0], color='b', ls='--', width=0.1)\n",
    "    \n",
    "def plot_path(Image, origin, dest, path):\n",
    "    fig, axes = plt.subplots(1,1, figsize=(12,12))\n",
    "    axes.imshow(Image, cmap='gray')\n",
    "    axes.plot(origin[1], origin[0], marker=\"s\", color=\"r\",markersize=20)\n",
    "    axes.plot(dest[1], dest[0], marker=\"*\", color=\"g\", markersize=20)\n",
    "\n",
    "    for i in range(1, len(path)):\n",
    "        plot_cur_pos(path[i], path[i-1], axes)\n",
    "    plt.show()        "
   ]
  },
  {
   "cell_type": "code",
   "execution_count": 109,
   "metadata": {},
   "outputs": [],
   "source": [
    "image = np.load('image.npy')"
   ]
  },
  {
   "cell_type": "code",
   "execution_count": 110,
   "metadata": {},
   "outputs": [],
   "source": [
    "origin = (0, 13)\n",
    "dest = (14, 16)"
   ]
  },
  {
   "cell_type": "code",
   "execution_count": 111,
   "metadata": {},
   "outputs": [],
   "source": [
    "G = nx.Graph()\n",
    "list_of_index_tuples = get_list_of_index_tuples(24, 24)\n",
    "nodes_list, edges_list = get_nodes_and_edges_list_for_graph(image, list_of_index_tuples)\n",
    "G.add_nodes_from(nodes_list)\n",
    "G.add_edges_from(edges_list)"
   ]
  },
  {
   "cell_type": "code",
   "execution_count": 112,
   "metadata": {},
   "outputs": [],
   "source": [
    "path = nx.shortest_path(G, origin, dest)"
   ]
  },
  {
   "cell_type": "code",
   "execution_count": 115,
   "metadata": {},
   "outputs": [
    {
     "data": {
      "image/png": "[encoded data removed]",
      "text/plain": [
       "<Figure size 864x864 with 1 Axes>"
      ]
     },
     "metadata": {},
     "output_type": "display_data"
    }
   ],
   "source": [
    "plot_path(image, origin, dest, path)"
   ]
  },
  {
   "cell_type": "code",
   "execution_count": 122,
   "metadata": {},
   "outputs": [],
   "source": [
    "def get_cost_matrix(G, nodes_list):\n",
    "    cost_matrix = np.zeros((len(nodes_list), len(nodes_list)))\n",
    "    for i,n1 in enumerate(nodes_list):\n",
    "        for j,n2 in enumerate(nodes_list):\n",
    "            if(i!=j):\n",
    "                cost_matrix[(i,j)] = nx.shortest_path_length(G, n1, n2)\n",
    "            else:    \n",
    "                cost_matrix[(i,j)] = 1000\n",
    "    return cost_matrix            "
   ]
  },
  {
   "cell_type": "code",
   "execution_count": 123,
   "metadata": {},
   "outputs": [],
   "source": [
    "cost_matrix = get_cost_matrix(G, nodes_list)"
   ]
  },
  {
   "cell_type": "code",
   "execution_count": 132,
   "metadata": {},
   "outputs": [
    {
     "data": {
      "text/plain": [
       "110"
      ]
     },
     "execution_count": 132,
     "metadata": {},
     "output_type": "execute_result"
    }
   ],
   "source": [
    "len(nodes_list)"
   ]
  },
  {
   "cell_type": "code",
   "execution_count": 135,
   "metadata": {},
   "outputs": [],
   "source": [
    "origin_index = get_index(nodes_list, origin)"
   ]
  },
  {
   "cell_type": "code",
   "execution_count": null,
   "metadata": {},
   "outputs": [
    {
     "name": "stdout",
     "output_type": "stream",
     "text": [
      "adding_subtour_constrains\n",
      "finished_adding_subtour_constrains\n"
     ]
    }
   ],
   "source": [
    "num_nodes= len(nodes_list) #number of nodes in the Orienteering\n",
    "try_times=range(90,100,20) #the time horizons which we try out\n",
    "\n",
    "for total_time in try_times: #try it for different time horizons\n",
    "    score_vector=np.ones(num_nodes) #this will generate a random score matrix.\n",
    "    score_vector[origin_index]=0 #since the 0th node, start node, has no value!\n",
    "    \n",
    "    x=c.Variable((num_nodes,num_nodes),boolean=True) #x_ij is 1, if we travel from i to j in the tour.\n",
    "    \n",
    "    u=c.Variable(num_nodes) #variables in subtour elimination constraints\n",
    "    \n",
    "    cost=c.sum(c.matmul(cost_matrix,x)) #total cost of the tour\n",
    "    profit=c.sum(c.matmul(x,score_vector))\n",
    "    \n",
    "    ones_arr=np.ones([num_nodes]) #array for ones\n",
    "      \n",
    "    constraints=[]\n",
    "    \n",
    "    #now, let us make sure each node is visited only once, and we leave only once from that node.\n",
    "    \n",
    "    constraints.append(c.sum(x[origin_index,:])==1)  #we leave from the first node\n",
    "    constraints.append(c.sum(x[:,origin_index])==1) #we come back to the first node\n",
    "    \n",
    "    constraints.append(c.matmul(x.T,ones_arr)<=1)  #max one connection outgoing and incoming\n",
    "    constraints.append(c.matmul(x,ones_arr)<=1)\n",
    "    \n",
    "    for i in range(num_nodes):\n",
    "        constraints.append(c.sum(x[:,i])==c.sum(x[i,:]))\n",
    "    #let us add the time constraints\n",
    "    \n",
    "    constraints.append(cost<=total_time)\n",
    "    #Let us add the subtour elimination constraints (Miller-Tucker-Zemlin similar formulation)\n",
    "    print('adding_subtour_constrains')\n",
    "    for i in range(1,num_nodes):\n",
    "        for j in range(1,num_nodes):\n",
    "            if i!=j:\n",
    "                constraints.append((u[i]-u[j]+1)<=((num_nodes-1)*(1-x[i,j])))\n",
    "        if(i!=origin_index):\n",
    "            constraints.append(u[i]<=num_nodes)    \n",
    "        else:\n",
    "            constraints.append(u[i]==1)    \n",
    "    print('finished_adding_subtour_constrains')\n",
    "    prob=c.Problem(c.Maximize(profit),constraints)\n",
    "    \n",
    "    prob.solve()\n",
    "    print('done')\n",
    "    if np.any(x.value==None): #no feasible solution found!\n",
    "        \n",
    "        print('Feasible solution not found, lower your time constraint!') \n",
    "        sys.exit()\n",
    "    \n",
    "    #print(x.value.astype('int32'))\n",
    "    #print(cost_matrix)\n",
    "    \n",
    "    \n",
    "    tour=[nodes_list[origin_index]] #.the final tour we have found will be stored here. Initialize with start node.\n",
    "    \n",
    "    now_node=origin_index #Initialize at start node\n",
    "        \n",
    "    cumulative_weight = 0\n",
    "    while(cumulative_weight<=total_time): #till we reach end node\n",
    "        \n",
    "        next_node=np.argmax(x.value[now_node,:]) #where  we go from node i\n",
    "        print('next_node, val\\n',nodes_list[now_node], '->', nodes_list[next_node], x.value[now_node, next_node])\n",
    "        print('cost: ', cost_matrix[now_node,next_node])\n",
    "\n",
    "        cumulative_weight += int(cost_matrix[now_node,next_node]) \n",
    "        tour.append(nodes_list[next_node]) #for 1 based indexing\n",
    "        now_node=next_node\n",
    "     \n",
    "    print('Profit of tour found by the solver is {}, cost of it is {} '.format(prob.value,cost.value))\n",
    "    print('Time taken to solve the problem instance after formulation is {} seconds'.format(prob.solver_stats.solve_time))\n",
    "    break;"
   ]
  },
  {
   "cell_type": "code",
   "execution_count": 157,
   "metadata": {},
   "outputs": [
    {
     "data": {
      "image/png": "[encoded data removed]",
      "text/plain": [
       "<Figure size 864x864 with 1 Axes>"
      ]
     },
     "metadata": {},
     "output_type": "display_data"
    }
   ],
   "source": [
    "plot_path(image, tour[0], tour[-1], tour)"
   ]
  },
  {
   "cell_type": "code",
   "execution_count": 47,
   "metadata": {},
   "outputs": [],
   "source": [
    "\n",
    "\n",
    "'''\n",
    "def get_index_tuples_as_a_list(dim_1, dim_2):\n",
    "    index_tuples = []\n",
    "    for j in range(dim_2):\n",
    "        for i in range(dim_1):\n",
    "            index_tuples.append((i,j))\n",
    "    index_tuples = np.array(index_tuples)        \n",
    "    return index_tuples\n",
    "'''\n",
    "\n",
    "\n",
    "def get_adj_matrix(Image):    \n",
    "    dim_1, dim_2 = Image.shape\n",
    "    index_tuples = get_index_tuples_as_a_list(dim_1, dim_2)\n",
    "    \n",
    "    adj_matrix = np.ones((len(index_tuples), len(index_tuples)))*100\n",
    "\n",
    "    for i, p_1 in enumerate(index_tuples):\n",
    "        for j, p_2 in enumerate(index_tuples):\n",
    "            diff = np.abs(p_1-p_2).sum()\n",
    "            \n",
    "            if(diff<2):\n",
    "                if(diff==0):\n",
    "                    adj_matrix[(i,j)] = 0\n",
    "                elif(diff==1 and Image[tuple(p_1)] and Image[tuple(p_2)]):\n",
    "                    adj_matrix[(i,j)] = 10\n",
    "\n",
    "    return adj_matrix, index_tuples             "
   ]
  },
  {
   "cell_type": "code",
   "execution_count": 24,
   "metadata": {},
   "outputs": [],
   "source": [
    "adj_matrix, index_tuples = get_adj_matrix(image)"
   ]
  },
  {
   "cell_type": "code",
   "execution_count": null,
   "metadata": {},
   "outputs": [],
   "source": [
    "#path = tspsolve.nearest_neighbor(adj_matrix)\n",
    "#new_path = tspsolve.two_opt(adj_matrix, path=path, verbose=True)"
   ]
  },
  {
   "cell_type": "code",
   "execution_count": 25,
   "metadata": {},
   "outputs": [],
   "source": [
    "path = solve_tsp(adj_matrix, endpoints = (288, 287))"
   ]
  },
  {
   "cell_type": "code",
   "execution_count": 32,
   "metadata": {},
   "outputs": [],
   "source": []
  },
  {
   "cell_type": "code",
   "execution_count": 34,
   "metadata": {
    "scrolled": false
   },
   "outputs": [
    {
     "data": {
      "image/png": "[encoded data removed]",
      "text/plain": [
       "<Figure size 432x288 with 1 Axes>"
      ]
     },
     "metadata": {},
     "output_type": "display_data"
    }
   ],
   "source": [
    "prev_pos = res_path[0]\n",
    "fig, axes = plt.subplots(1,1)\n",
    "axes.imshow(image, cmap='gray')\n",
    "overlay = np.zeros((24,24))\n",
    "overlay[prev_pos] = 1\n",
    "axes.imshow(overlay, 'jet', interpolation='none', alpha=0.5)\n",
    "\n",
    "steps=0\n",
    "for val in res_path:\n",
    "    steps+=1\n",
    "    plot_cur_pos(val, prev_pos, axes)\n",
    "    prev_pos = val \n",
    "    if(steps>50):\n",
    "        break\n",
    "plt.show()        "
   ]
  },
  {
   "cell_type": "code",
   "execution_count": null,
   "metadata": {},
   "outputs": [],
   "source": [
    "'''\n",
    "from tspy import TSP\n",
    "from tspy.solvers import TwoOpt_solver\n",
    "\n",
    "tsp = TSP()\n",
    "tsp.read_mat(r1)\n",
    "\n",
    "two_opt = TwoOpt_solver(initial_tour='NN', iter_num=100)\n",
    "two_opt_tour = tsp.get_approx_solution(two_opt)\n",
    "best_sol = tsp.get_best_solution()\n",
    "'''"
   ]
  }
 ],
 "metadata": {
  "kernelspec": {
   "display_name": "Python 3",
   "language": "python",
   "name": "python3"
  },
  "language_info": {
   "codemirror_mode": {
    "name": "ipython",
    "version": 3
   },
   "file_extension": ".py",
   "mimetype": "text/x-python",
   "name": "python",
   "nbconvert_exporter": "python",
   "pygments_lexer": "ipython3",
   "version": "3.6.8"
  }
 },
 "nbformat": 4,
 "nbformat_minor": 2
}
