{
 "cells": [
  {
   "cell_type": "code",
   "execution_count": 1,
   "metadata": {},
   "outputs": [
    {
     "name": "stdout",
     "output_type": "stream",
     "text": [
      "Total number of newspapers:  155856\n",
      "State with the highest number of publications, ohio : 7847\n",
      "State with the least number of publications, rhode island : 150\n",
      "Alabama, total number of newspapers: 285\n",
      "Total number of newspapers for my state, oregon : 1541\n",
      "\n",
      "\n",
      "Printing information for all newspapers from oregon:\n",
      "Title     : Oregon emerald.\n",
      "Start year: 1909\n",
      "Title     : Oregon news.\n",
      "Start year: 1959\n",
      "Title     : Oregon summer emerald.\n",
      "Start year: 1966\n",
      "Title     : Ōshū nippō = The Oregon news. [microfiche]\n",
      "Start year: 1908\n",
      "Title     : The Eastern Oregon Republican. [volume]\n",
      "Start year: 1888\n",
      "Please refer to 5-2.json file for all 1541 results\n",
      "\n",
      "\n",
      "=================================\n"
     ]
    },
    {
     "data": {
      "text/plain": [
       "'\\ntop5_start_year, top5 = query_q6(data_all)\\nprint(\"Printing top 5 publications with the earliest start years:\\n\")\\n\\nfor result in top5:\\n    print(result[\"title\"]+\" - \"+str(result[\"start_year\"]))\\n'"
      ]
     },
     "execution_count": 1,
     "metadata": {},
     "output_type": "execute_result"
    }
   ],
   "source": [
    "import requests\n",
    "import json\n",
    "\n",
    "states_dict = {\"al\":\"alabama\",\"ak\":\"alaska\",\"az\":\"arizona\",\"ar\":\"arkansas\",\"ca\":\"california\",\"co\":\"colorado\",\"ct\":\"connecticut\",\"de\":\"delaware\",\"fl\":\"florida\",\"ga\":\"georgia\",\"hi\":\"hawaii\",\"id\":\"idaho\",\"il\":\"illinois\",\"in\":\"indiana\",\"ia\":\"iowa\",\"ks\":\"kansas\",\"ky\":\"kentucky\",\"la\":\"louisiana\",\"me\":\"maine\",\"md\":\"maryland\",\"ma\":\"massachusetts\",\"mi\":\"michigan\",\"mn\":\"minnesota\",\"ms\":\"mississippi\",\"mo\":\"missouri\",\"mt\":\"montana\",\"ne\":\"nebraska\",\"nv\":\"nevada\",\"nh\":\"new hampshire\",\"nj\":\"new jersey\",\"nm\":\"new mexico\",\"ny\":\"new york\",\"nc\":\"north carolina\",\"nd\":\"north dakota\",\"oh\":\"ohio\",\"ok\":\"oklahoma\",\"or\":\"oregon\",\"pa\":\"pennsylvania\",\"ri\":\"rhode island\",\"sc\":\"south carolina\",\"sd\":\"south dakota\",\"tn\":\"tennessee\",\"tx\":\"texas\",\"ut\":\"utah\",\"vt\":\"vermont\",\"va\":\"virginia\",\"wa\":\"washington\",\"wv\":\"west virginia\",\"wi\":\"wisconsin\",\"wy\":\"wyoming\"}\n",
    "\n",
    "def write_to_file(fn, data):\n",
    "    with open(fn, 'w') as outfile:\n",
    "        json.dump(data, outfile)\n",
    "\n",
    "def read_from_file(fn):\n",
    "    with open(fn) as json_file:\n",
    "        data = json.load(json_file)\n",
    "    return data    \n",
    "\n",
    "def query_q1():\n",
    "    r_all = requests.get(url=\"https://chroniclingamerica.loc.gov/newspapers.json\")\n",
    "    data_all = r_all.json()\n",
    "    \n",
    "    write_to_file(\"1.json\", data_all)\n",
    "    return data_all\n",
    "\n",
    "query_q1()\n",
    "data_all = read_from_file(\"1.json\")\n",
    "print(\"Total number of newspapers: \", len(data_all[\"newspapers\"]))\n",
    "states_list = []\n",
    "state_wise_count = {}\n",
    "for item in data_all[\"newspapers\"]:\n",
    "    if(item[\"state\"] not in state_wise_count):\n",
    "        state_wise_count[item[\"state\"]] = 1\n",
    "        states_list.append(item[\"state\"])\n",
    "    else:    \n",
    "        state_wise_count[item[\"state\"]] += 1\n",
    "    \n",
    "\n",
    "def get_newspaper_count_for_all_states(states_dict):\n",
    "    total_newspaper_count_dict = {}\n",
    "    counts = []\n",
    "\n",
    "    for (_, state) in states_dict.items():\n",
    "        r = requests.get(url=\"https://chroniclingamerica.loc.gov/search/titles/results/?terms=\"+state+\"&format=json\")\n",
    "        data = r.json()\n",
    "        total_newspaper_count_dict[state] = data[\"totalItems\"] or 0\n",
    "        counts.append(total_newspaper_count_dict[state])\n",
    "    write_to_file(\"total_newspaper_count_dict.json\", {\"total_newspaper_count_dict\":total_newspaper_count_dict, \"counts\":counts})\n",
    "    return total_newspaper_count_dict, counts\n",
    "\n",
    "statewise_total_newpaper_count = read_from_file(\"total_newspaper_count_dict.json\")\n",
    "total_newspaper_count_dict, counts = statewise_total_newpaper_count[\"total_newspaper_count_dict\"], statewise_total_newpaper_count[\"counts\"]\n",
    "\n",
    "\n",
    "idx_of_state_with_min_publications = counts.index(min(counts))\n",
    "idx_of_state_with_max_publications = counts.index(max(counts))\n",
    "\n",
    "list_of_states = list(total_newspaper_count_dict.keys())\n",
    "state_with_min_publications = list_of_states[idx_of_state_with_min_publications]\n",
    "state_with_max_publications = list_of_states[idx_of_state_with_max_publications]\n",
    "\n",
    "print(\"State with the highest number of publications,\", state_with_max_publications+\" :\",counts[idx_of_state_with_max_publications])\n",
    "print(\"State with the least number of publications,\", state_with_min_publications+\" :\",counts[idx_of_state_with_min_publications])\n",
    "print(\"Alabama, total number of newspapers:\", total_newspaper_count_dict[\"alabama\"])\n",
    "\n",
    "\n",
    "def query_q5():\n",
    "    state = \"oregon\"\n",
    "    r = requests.get(url=\"https://chroniclingamerica.loc.gov/search/titles/results/?terms=\"+state+\"&format=json\")\n",
    "    data = r.json()\n",
    "    write_to_file(\"5.json\", data)\n",
    "    return data\n",
    "\n",
    "my_state = \"oregon\"\n",
    "print(\"Total number of newspapers for my state, \"+my_state+\" :\", total_newspaper_count_dict[my_state])\n",
    "\n",
    "def save_all_newspaper_info_for_q5(total_newspaper_count_dict, my_state):\n",
    "    total_no_pages = math.ceil(total_newspaper_count_dict[my_state]/50)\n",
    "    res = []\n",
    "    for page_no in range(1,total_no_pages+1):\n",
    "        r = requests.get(url=\"https://chroniclingamerica.loc.gov/search/titles/results/?terms=\"+my_state+\"&format=json&page=\"+str(page_no))\n",
    "        data = r.json()\n",
    "        for item in data[\"items\"]:\n",
    "            res.append({'title':item[\"title\"], 'start_year':item[\"start_year\"]})\n",
    "            #print(\"Title of newspaper:\", item[\"title\"])\n",
    "            #print(\"Starting year     :\", item[\"start_year\"])\n",
    "            #print(\"\") \n",
    "    \n",
    "    write_to_file('5-2.json', res)        \n",
    "    return res\n",
    "\n",
    "all_news_my_state = read_from_file(\"5-2.json\")\n",
    "print(\"\\n\")\n",
    "print(\"Printing information for all newspapers from \"+my_state+\":\")\n",
    "for n_item in range(1,6):\n",
    "    print(\"Title     :\", all_news_my_state[n_item-1][\"title\"])\n",
    "    print(\"Start year:\", all_news_my_state[n_item-1][\"start_year\"])\n",
    "print(\"Please refer to 5-2.json file for all 1541 results\")\n",
    "\n",
    "\n",
    "\n",
    "def get_replacement_position(start_year, top5_start_year):\n",
    "    i = 5-1  \n",
    "    while(start_year<top5_start_year[i] and i>0):\n",
    "        i-=1\n",
    "    return i\n",
    "\n",
    "def get_updated_top_5_results(idx, start_year, item, top5_start_year, top5):\n",
    "    if(idx==0):\n",
    "        top5_start_year = [start_year] + top5_start_year[:-1]\n",
    "        top5 = [{'title' : item[\"title\"], 'start_year' : item[\"start_year\"]}] + top5[:-1]     \n",
    "        \n",
    "    elif(idx<4):\n",
    "        top5_start_year = top5_start_year[:idx+1] + [start_year] + top5_start_year[idx+1:-1]\n",
    "        top5 = top5[:idx+1] + [{'title' : item[\"title\"], 'start_year' : item[\"start_year\"]}] + top5[idx+1:-1]     \n",
    "    return top5_start_year, top5\n",
    "\n",
    "print(\"\\n\")\n",
    "print(\"=================================\")\n",
    "def query_q6(data_all):\n",
    "    print(\"Querying all newspaper publications\")\n",
    "    total_no_pages_all_publications = math.ceil(data_all[\"totalItems\"]/50)\n",
    "    top5 = [{}, {}, {}, {}, {}]\n",
    "    top5_start_year = [2019, 2019, 2019, 2019, 2019]\n",
    "\n",
    "    for page_no in range(1,total_no_pages_all_publications+1):\n",
    "        r = requests.get(url=\"https://chroniclingamerica.loc.gov/search/titles/results/?terms=&format=json&page=\"+str(page_no))\n",
    "        data = r.json()\n",
    "\n",
    "        for item in data[\"items\"]:\n",
    "            if(item[\"start_year\"]>top5_start_year[-1]):\n",
    "                continue\n",
    "            elif(item[\"start_year\"]<top5_start_year[-1] and item[\"start_year\"]>1689):\n",
    "                idx = get_replacement_position(item[\"start_year\"], top5_start_year)\n",
    "                top5_start_year, top5 = get_updated_top_5_results(idx, item[\"start_year\"], item, top5_start_year, top5)\n",
    "    write_to_file('6.json', top5)\n",
    "    return top5_start_year, top5\n",
    "\n",
    "'''\n",
    "top5_start_year, top5 = query_q6(data_all)\n",
    "print(\"Printing top 5 publications with the earliest start years:\\n\")\n",
    "\n",
    "for result in top5:\n",
    "    print(result[\"title\"]+\" - \"+str(result[\"start_year\"]))\n",
    "'''"
   ]
  },
  {
   "cell_type": "code",
   "execution_count": 3,
   "metadata": {},
   "outputs": [],
   "source": [
    "r_all = requests.get(url=\"https://chroniclingamerica.loc.gov/newspapers.json\")\n",
    "data_all = r_all.json()"
   ]
  },
  {
   "cell_type": "code",
   "execution_count": 8,
   "metadata": {},
   "outputs": [
    {
     "data": {
      "text/plain": [
       "3066"
      ]
     },
     "execution_count": 8,
     "metadata": {},
     "output_type": "execute_result"
    }
   ],
   "source": [
    "len(data_all['newspapers'])"
   ]
  },
  {
   "cell_type": "code",
   "execution_count": 9,
   "metadata": {},
   "outputs": [
    {
     "data": {
      "text/plain": [
       "{'lccn': 'sn86072192',\n",
       " 'url': 'https://chroniclingamerica.loc.gov/lccn/sn86072192.json',\n",
       " 'state': 'Alabama',\n",
       " 'title': 'The Age-herald. [volume]'}"
      ]
     },
     "execution_count": 9,
     "metadata": {},
     "output_type": "execute_result"
    }
   ],
   "source": [
    "data_all['newspapers'][0]"
   ]
  },
  {
   "cell_type": "code",
   "execution_count": 11,
   "metadata": {},
   "outputs": [],
   "source": [
    "x = set()"
   ]
  },
  {
   "cell_type": "code",
   "execution_count": 12,
   "metadata": {},
   "outputs": [],
   "source": [
    "x.add('a')"
   ]
  },
  {
   "cell_type": "code",
   "execution_count": 13,
   "metadata": {},
   "outputs": [
    {
     "data": {
      "text/plain": [
       "{'a'}"
      ]
     },
     "execution_count": 13,
     "metadata": {},
     "output_type": "execute_result"
    }
   ],
   "source": [
    "x"
   ]
  },
  {
   "cell_type": "code",
   "execution_count": null,
   "metadata": {},
   "outputs": [],
   "source": []
  }
 ],
 "metadata": {
  "kernelspec": {
   "display_name": "Python 3",
   "language": "python",
   "name": "python3"
  },
  "language_info": {
   "codemirror_mode": {
    "name": "ipython",
    "version": 3
   },
   "file_extension": ".py",
   "mimetype": "text/x-python",
   "name": "python",
   "nbconvert_exporter": "python",
   "pygments_lexer": "ipython3",
   "version": "3.6.8"
  }
 },
 "nbformat": 4,
 "nbformat_minor": 2
}
